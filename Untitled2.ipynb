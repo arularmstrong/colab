{
  "nbformat": 4,
  "nbformat_minor": 0,
  "metadata": {
    "colab": {
      "name": "Untitled2.ipynb",
      "version": "0.3.2",
      "provenance": [],
      "include_colab_link": true
    },
    "kernelspec": {
      "name": "python3",
      "display_name": "Python 3"
    }
  },
  "cells": [
    {
      "cell_type": "markdown",
      "metadata": {
        "id": "view-in-github",
        "colab_type": "text"
      },
      "source": [
        "<a href=\"https://colab.research.google.com/github/arularmstrong/colab/blob/master/Untitled2.ipynb\" target=\"_parent\"><img src=\"https://colab.research.google.com/assets/colab-badge.svg\" alt=\"Open In Colab\"/></a>"
      ]
    },
    {
      "metadata": {
        "id": "EwAp-4LNvfFd",
        "colab_type": "code",
        "colab": {
          "base_uri": "https://localhost:8080/",
          "height": 294
        },
        "outputId": "9f5ff5bf-6e71-4207-8f3e-c81f1ccea6d1"
      },
      "cell_type": "code",
      "source": [
        "%%bash\n",
        "pip install instaloader"
      ],
      "execution_count": 2,
      "outputs": [
        {
          "output_type": "stream",
          "text": [
            "Collecting instaloader\n",
            "  Downloading https://files.pythonhosted.org/packages/6f/08/967fa9dc0f8f18d255c6f27943d57ec16c070aea9700615d435f04e4afbb/instaloader-4.2.4.tar.gz\n",
            "Requirement already satisfied: requests>=2.4 in /usr/local/lib/python3.6/dist-packages (from instaloader) (2.18.4)\n",
            "Requirement already satisfied: urllib3<1.23,>=1.21.1 in /usr/local/lib/python3.6/dist-packages (from requests>=2.4->instaloader) (1.22)\n",
            "Requirement already satisfied: certifi>=2017.4.17 in /usr/local/lib/python3.6/dist-packages (from requests>=2.4->instaloader) (2019.3.9)\n",
            "Requirement already satisfied: idna<2.7,>=2.5 in /usr/local/lib/python3.6/dist-packages (from requests>=2.4->instaloader) (2.6)\n",
            "Requirement already satisfied: chardet<3.1.0,>=3.0.2 in /usr/local/lib/python3.6/dist-packages (from requests>=2.4->instaloader) (3.0.4)\n",
            "Building wheels for collected packages: instaloader\n",
            "  Building wheel for instaloader (setup.py): started\n",
            "  Building wheel for instaloader (setup.py): finished with status 'done'\n",
            "  Stored in directory: /root/.cache/pip/wheels/c4/f9/4c/9ad16e8ec6635b8c4cf5c3d68bad3d806827c70effd8b05fa8\n",
            "Successfully built instaloader\n",
            "Installing collected packages: instaloader\n",
            "Successfully installed instaloader-4.2.4\n"
          ],
          "name": "stdout"
        }
      ]
    },
    {
      "metadata": {
        "id": "zTP-ODSivvcb",
        "colab_type": "code",
        "colab": {}
      },
      "cell_type": "code",
      "source": [
        "%%bash\n",
        "instaloader davidgandy_official --comments --post-filter=\"comments>0\"  --no-pictures  --no-captions  --no-compress-json --no-videos --no-video-thumbnails --no-metadata-json"
      ],
      "execution_count": 0,
      "outputs": []
    },
    {
      "metadata": {
        "id": "GdwINerExnCC",
        "colab_type": "code",
        "colab": {}
      },
      "cell_type": "code",
      "source": [
        "import urllib\n",
        "\n",
        "dirpath = './davidgandy_official'\n",
        "\n",
        "url = urlopen(dirpath)\n",
        "\n",
        "str = url.read().decode('utf-8')\n",
        "\n",
        "pattern = re.compile('*.*')\n",
        "\n",
        "files = pattern.findall(str)"
      ],
      "execution_count": 0,
      "outputs": []
    }
  ]
}